{
 "cells": [
  {
   "cell_type": "code",
   "execution_count": null,
   "metadata": {},
   "outputs": [],
   "source": [
    "!inline matplotlib"
   ]
  },
  {
   "cell_type": "code",
   "execution_count": null,
   "metadata": {},
   "outputs": [],
   "source": [
    "from bar_charts import build_chart\n",
    "from generators import generate, first_generator, second_generator, \\\n",
    "    third_generator\n",
    "from utils import get_intervals, \\\n",
    "    expected_value, dispersion, get_chi_squared, get_expected_amount_1, \\\n",
    "    get_expected_amount_2, get_expected_amount_3\n",
    "\n",
    "expected_amount = {first_generator: get_expected_amount_1,\n",
    "                   second_generator: get_expected_amount_2,\n",
    "                   third_generator: get_expected_amount_3}\n",
    "\n",
    "\n",
    "def explore_generator(generator, **kwargs):\n",
    "    arr = generate(generator, **kwargs)\n",
    "    intervals = get_intervals(arr)\n",
    "    build_chart(intervals)\n",
    "    expected_value_ = expected_value(arr)\n",
    "    print('Expected value: ', expected_value_)\n",
    "    print('Dispersion: ', dispersion(arr, expected_value_))\n",
    "    print('chi2: ',\n",
    "          get_chi_squared(intervals, expected_amount[generator], **kwargs))\n",
    "\n",
    "\n",
    "explore_generator(first_generator, lambda_=8)\n",
    "explore_generator(second_generator, sigma=3, a=10)\n",
    "explore_generator(third_generator, a=5 ** 13, c=2 * 31)"
   ]
  },
  {
   "cell_type": "code",
   "execution_count": null,
   "metadata": {},
   "outputs": [],
   "source": [
    "!echo hello"
   ]
  },
  {
   "cell_type": "code",
   "execution_count": 1,
   "metadata": {},
   "outputs": [],
   "source": [
    "import numpy as np\n",
    "\n",
    "from math import log\n",
    "from settings import NUMBERS_AMOUNT\n",
    "\n",
    "\n",
    "def first_generator(lambda_):\n",
    "    xi = np.random.uniform(0, 1)\n",
    "    return -(1 / lambda_) * log(xi)\n",
    "\n",
    "\n",
    "def second_generator(sigma, a):\n",
    "    mu = sum([np.random.uniform(0, 1) for _ in range(12)]) - 6\n",
    "    return sigma * mu + a\n",
    "\n",
    "\n",
    "def third_generator(a=5 ** 13, c=2 ** 31):\n",
    "    prev = np.random.uniform(0, 1)\n",
    "\n",
    "    def helper():\n",
    "        z = (a * prev) % c\n",
    "        return z / c\n",
    "\n",
    "    x = helper()\n",
    "    prev = x * c\n",
    "\n",
    "    return x\n",
    "\n",
    "\n",
    "def generate(generator, *args, **kwargs):\n",
    "    return [generator(*args, **kwargs) for _ in range(NUMBERS_AMOUNT)]\n"
   ]
  },
  {
   "cell_type": "code",
   "execution_count": 2,
   "metadata": {},
   "outputs": [
    {
     "data": {
      "text/plain": [
       "<Figure size 640x480 with 1 Axes>"
      ]
     },
     "metadata": {},
     "output_type": "display_data"
    },
    {
     "name": "stdout",
     "output_type": "stream",
     "text": [
      "Expected value:  0.1254453977433657\n",
      "Dispersion:  0.015919100673231042\n",
      "chi2:  6.375846561931759\n"
     ]
    },
    {
     "data": {
      "text/plain": [
       "<Figure size 640x480 with 1 Axes>"
      ]
     },
     "metadata": {},
     "output_type": "display_data"
    },
    {
     "name": "stdout",
     "output_type": "stream",
     "text": [
      "Expected value:  9.998275220384063\n",
      "Dispersion:  9.084329266250496\n",
      "chi2:  18.114512820319536\n"
     ]
    },
    {
     "data": {
      "text/plain": [
       "<Figure size 640x480 with 1 Axes>"
      ]
     },
     "metadata": {},
     "output_type": "display_data"
    },
    {
     "name": "stdout",
     "output_type": "stream",
     "text": [
      "Expected value:  0.499310559980366\n",
      "Dispersion:  0.0834336022429935\n",
      "chi2:  14.72\n"
     ]
    }
   ],
   "source": [
    "from bar_charts import build_chart\n",
    "from generators import generate, first_generator, second_generator, \\\n",
    "    third_generator\n",
    "from utils import get_intervals, \\\n",
    "    expected_value, dispersion, get_chi_squared, get_expected_amount_1, \\\n",
    "    get_expected_amount_2, get_expected_amount_3\n",
    "\n",
    "expected_amount = {first_generator: get_expected_amount_1,\n",
    "                   second_generator: get_expected_amount_2,\n",
    "                   third_generator: get_expected_amount_3}\n",
    "\n",
    "\n",
    "def explore_generator(generator, **kwargs):\n",
    "    arr = generate(generator, **kwargs)\n",
    "    intervals = get_intervals(arr)\n",
    "    build_chart(intervals)\n",
    "    expected_value_ = expected_value(aarr)\n",
    "    print('Expected value: ', expected_value_)\n",
    "    print('Dispersion: ', dispersion(arr, expected_value_))\n",
    "    print('chi2: ',\n",
    "          get_chi_squared(intervals, expected_amount[generator], **kwargs))\n",
    "\n",
    "\n",
    "explore_generator(first_generator, lambda_=8)\n",
    "explore_generator(second_generator, sigma=3, a=10)\n",
    "explore_generator(third_generator, a=5 ** 13, c=2 * 31)"
   ]
  },
  {
   "cell_type": "code",
   "execution_count": null,
   "metadata": {},
   "outputs": [],
   "source": []
  }
 ],
 "metadata": {
  "kernelspec": {
   "display_name": "Python 3",
   "language": "python",
   "name": "python3"
  },
  "language_info": {
   "codemirror_mode": {
    "name": "ipython",
    "version": 3
   },
   "file_extension": ".py",
   "mimetype": "text/x-python",
   "name": "python",
   "nbconvert_exporter": "python",
   "pygments_lexer": "ipython3",
   "version": "3.6.5"
  }
 },
 "nbformat": 4,
 "nbformat_minor": 2
}
